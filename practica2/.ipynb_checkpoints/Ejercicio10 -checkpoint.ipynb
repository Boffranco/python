{
 "cells": [
  {
   "cell_type": "markdown",
   "id": "bd9a92c6",
   "metadata": {},
   "source": [
    "Primero abro los archivos, los asigno a una variable encodeandolos como uft para su lectura"
   ]
  },
  {
   "cell_type": "code",
   "execution_count": 26,
   "id": "ecce8509",
   "metadata": {},
   "outputs": [],
   "source": [
    "arch_nombre= open(\"nombres.txt\", \"r\", encoding=\"utf-8\")\n",
    "arch_eval1= open(\"eval1.txt\",\"r\", encoding=\"utf-8\")\n",
    "arch_eval2= open(\"eval2.txt\",\"r\", encoding=\"utf-8\")"
   ]
  },
  {
   "cell_type": "markdown",
   "id": "1ab4f9c2",
   "metadata": {},
   "source": [
    "Lei y asigne sus varibles a una lista, les quite las comas utilizando el raplace para que sea mas facil"
   ]
  },
  {
   "cell_type": "code",
   "execution_count": 27,
   "id": "0e6b447c",
   "metadata": {},
   "outputs": [],
   "source": [
    "nombres= arch_nombre.read().replace(',', \"\").replace('\\'',\"\").split()\n",
    "eval1= arch_eval1.read().replace(',', \"\").replace('\\'',\"\").split()\n",
    "eval2= arch_eval2.read().replace(',', \"\").replace('\\'',\"\").split()"
   ]
  },
  {
   "cell_type": "markdown",
   "id": "919a61bb",
   "metadata": {},
   "source": [
    "Inicializo mis varibles"
   ]
  },
  {
   "cell_type": "code",
   "execution_count": 28,
   "id": "c85878b2",
   "metadata": {},
   "outputs": [],
   "source": [
    "estudiantes=[]\n",
    "total= 0"
   ]
  },
  {
   "cell_type": "markdown",
   "id": "2041c836",
   "metadata": {},
   "source": [
    "Itero sobre cada nombre y evaluaciones. Existen diferentes alumnos con el mismo nombre y diferente nota (por lo cual lo tome como que son diferentes personas), luego creo un diccionario de estudiante y los agrego a la lista. Voy sumando el total de las notas del estudiante para sacar el promedio"
   ]
  },
  {
   "cell_type": "code",
   "execution_count": 29,
   "id": "9020f5b1",
   "metadata": {},
   "outputs": [],
   "source": [
    "for i in range(0,len(nombres)):\n",
    "     estudiante= {\"nombre\": nombres[i], \"nota\": int(eval1[i]) + int(eval2[i]) }\n",
    "     estudiantes.append(estudiante)\n",
    "     total+= estudiante[\"nota\"]       "
   ]
  },
  {
   "cell_type": "markdown",
   "id": "ffe254e7",
   "metadata": {},
   "source": [
    "Saco el promedio\n"
   ]
  },
  {
   "cell_type": "code",
   "execution_count": 30,
   "id": "1008f957",
   "metadata": {},
   "outputs": [
    {
     "name": "stdout",
     "output_type": "stream",
     "text": [
      "96.19148936170212\n"
     ]
    }
   ],
   "source": [
    "promedio= total  / len (estudiantes)\n",
    "print(promedio)"
   ]
  },
  {
   "cell_type": "markdown",
   "id": "fa29e115",
   "metadata": {},
   "source": [
    "Creo una lista para guardar los nombres de los alumnos que tienen menor nota al promedio, recorriendo por estudiantes"
   ]
  },
  {
   "cell_type": "code",
   "execution_count": 31,
   "id": "63d10163",
   "metadata": {},
   "outputs": [],
   "source": [
    "menor_al_promedio=[]\n",
    "for estudiante in  estudiantes:\n",
    "     if(estudiante[\"nota\"] < promedio):\n",
    "         menor_al_promedio.append(estudiante[\"nombre\"])      "
   ]
  },
  {
   "cell_type": "markdown",
   "id": "66dce853",
   "metadata": {},
   "source": [
    "Imprimo la lista "
   ]
  },
  {
   "cell_type": "code",
   "execution_count": 32,
   "id": "8cf65ae5",
   "metadata": {},
   "outputs": [
    {
     "name": "stdout",
     "output_type": "stream",
     "text": [
      "['CESAR', 'Diego', 'Dolores', 'DYLAN', 'ELIANA', 'Emanuel', 'GONZALO', 'Gregorio', 'Ignacio', 'Jonathan', 'Jorge', 'JUAN', 'Julian', 'Leonel', 'Nicolás', 'NICOLÁS', 'Priscila', 'Yanina']\n"
     ]
    }
   ],
   "source": [
    "print(menor_al_promedio)"
   ]
  },
  {
   "cell_type": "markdown",
   "id": "b2e61c60",
   "metadata": {},
   "source": [
    "Cierro los archivos"
   ]
  },
  {
   "cell_type": "code",
   "execution_count": 33,
   "id": "622e7386",
   "metadata": {},
   "outputs": [],
   "source": [
    "arch_nombre.close()\n",
    "arch_eval1.close()\n",
    "arch_eval2.close()"
   ]
  }
 ],
 "metadata": {
  "kernelspec": {
   "display_name": "Python 3 (ipykernel)",
   "language": "python",
   "name": "python3"
  },
  "language_info": {
   "codemirror_mode": {
    "name": "ipython",
    "version": 3
   },
   "file_extension": ".py",
   "mimetype": "text/x-python",
   "name": "python",
   "nbconvert_exporter": "python",
   "pygments_lexer": "ipython3",
   "version": "3.10.4"
  }
 },
 "nbformat": 4,
 "nbformat_minor": 5
}
